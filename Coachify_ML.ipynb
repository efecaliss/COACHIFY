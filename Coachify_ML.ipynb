{
  "nbformat": 4,
  "nbformat_minor": 0,
  "metadata": {
    "colab": {
      "provenance": []
    },
    "kernelspec": {
      "name": "python3",
      "display_name": "Python 3"
    },
    "language_info": {
      "name": "python"
    }
  },
  "cells": [
    {
      "cell_type": "code",
      "execution_count": 4,
      "metadata": {
        "colab": {
          "base_uri": "https://localhost:8080/"
        },
        "id": "kUOCr19GFdvX",
        "outputId": "14a096a4-94ba-4533-c56f-6b724ad0ec9a"
      },
      "outputs": [
        {
          "output_type": "stream",
          "name": "stdout",
          "text": [
            "Accuracy scores for each fold:\n",
            "[0.667, 0.25, 0.583, 0.333, 0.5, 0.364, 0.273, 0.455, 0.455, 0.636]\n",
            "\n",
            "Average Accuracy: 0.4515\n"
          ]
        }
      ],
      "source": [
        "import pandas as pd\n",
        "from sklearn.linear_model import LogisticRegression\n",
        "from sklearn.model_selection import KFold\n",
        "from sklearn.metrics import accuracy_score\n",
        "\n",
        "# 1. Read\n",
        "df = pd.read_excel(\"/content/DSA_Student_List_By_Students.xlsx\")\n",
        "\n",
        "# 2. Using Columns\n",
        "df = df[[\"Field\", \"Primary_Communication_Format\", \"Weekly_Call_Frequency\", \"Weekly_Message_Days\", \"Pass\"]]\n",
        "\n",
        "# 3. Classification\n",
        "df[\"Field\"] = df[\"Field\"].map({\"Quantitative\": 0, \"Equal Weight\": 1})\n",
        "df[\"Primary_Communication_Format\"] = df[\"Primary_Communication_Format\"].map({\"voice\": 0, \"video\": 1})\n",
        "\n",
        "# 4. Missed Data\n",
        "df = df.dropna()\n",
        "\n",
        "# 5. X and Y\n",
        "X = df.drop(\"Pass\", axis=1)\n",
        "y = df[\"Pass\"]\n",
        "\n",
        "# 6. Model and K-Fold\n",
        "model = LogisticRegression()\n",
        "kf = KFold(n_splits=10, shuffle=True, random_state=42)\n",
        "accuracies = []\n",
        "\n",
        "for train_index, test_index in kf.split(X):\n",
        "    X_train, X_test = X.iloc[train_index], X.iloc[test_index]\n",
        "    y_train, y_test = y.iloc[train_index], y.iloc[test_index]\n",
        "\n",
        "    model.fit(X_train, y_train)\n",
        "    y_pred = model.predict(X_test)\n",
        "    acc = accuracy_score(y_test, y_pred)\n",
        "    accuracies.append(acc)\n",
        "\n",
        "# 7. Results\n",
        "print(\"Accuracy scores for each fold:\")\n",
        "print([round(a, 3) for a in accuracies])\n",
        "print(\"\\nAverage Accuracy:\", round(sum(accuracies) / len(accuracies), 4))"
      ]
    }
  ]
}